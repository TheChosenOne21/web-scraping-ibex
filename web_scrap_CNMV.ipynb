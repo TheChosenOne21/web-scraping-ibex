{
 "cells": [
  {
   "cell_type": "code",
   "execution_count": 3,
   "id": "3856bec5-4b6f-4563-8c2e-35e812a10d49",
   "metadata": {},
   "outputs": [],
   "source": [
    "import pandas\n",
    "from funciones_web_scrap import extract_data"
   ]
  },
  {
   "cell_type": "code",
   "execution_count": 6,
   "id": "171acc98-8130-416a-88d2-84dc92713cec",
   "metadata": {},
   "outputs": [],
   "source": [
    "dicc_empresas = {\n",
    "    '54930002KP75TLLLNO21':'ACCIONA',\n",
    "    '95980020140005582721':'ACERINOX',\n",
    "    '95980020140005558665':'ACS',\n",
    "    '959800R7QMXKF0NFMT29':'AENA',\n",
    "    '95980020140005007996':'ALMIRALL',\n",
    "    '9598004A3FTY3TEHHN09':'AMADEUS IT',\n",
    "    '2EULGUTUI56JI9SAL165':'ARCELORMITTAL',\n",
    "    '5493006QMFDDMYWIAM13':'BANCO SANTANDER',\n",
    "    'SI5RG2M0WQQLZCXKRM20':'BANCO SABADELL',\n",
    "    'VWMYAEQSTOPNV0SUGU82':'BANKINTER',\n",
    "    'K8MS7FD7N5Z2WQ51AZ71':'BBVA',\n",
    "    '7CUNS533WID6K7DGFI87':'CAIXABANK',\n",
    "    '5493008T4YG3AQUI7P67':'CELLNEX TELECOM',\n",
    "    '95980020140005381252':'CIE AUTOMOTIVE',\n",
    "    '213800OU3FQKGM4M2U23':'ENAGAS',\n",
    "    '549300LHK07F2CHV4X31':'ENDESA',\n",
    "    '95980020140005757903':'FERROVIAL',\n",
    "    '95980020140005026620':'FLUIDRA',\n",
    "    '959800HSSNXWRKBK4N60':'GRIFOLS',\n",
    "    '959800TZHQRUSH1ESL13':'INTERNATIONAL CONSOLIDATED AIRLINES',\n",
    "    '5QK37QC7NWOJ8D7WVQ45':'IBERDROLA',\n",
    "    '549300TTCXZOGZM2EY83':'INDITEX',\n",
    "    '95980020140005308793':'INDRA SISTEMAS',\n",
    "    '95980020140005007414':'INMOBILIARIA COLONIAL',\n",
    "    '95980020140005693107':'MAPFRE',\n",
    "    '959800JRKSZ6YZD4EL80':'MELIA',\n",
    "    '959800L8KD863DP30X04':'MERLIN',\n",
    "    'TL2N6M87CW970S5SV098':'NATURGY',\n",
    "    '959800QWKZ45ZQC2AV58':'PHARMA MAR',\n",
    "    '5493009HMD0C90GUV498':'RED ELECTRICA',\n",
    "    'BSYCX13Y0NOTV14V9N85':'REPSOL',\n",
    "    '9598004BR8D81D3M1D64':'SIEMENS GAMESA',\n",
    "    '959800PM2YJU406K2789':'SOLARIA ENERGIA Y MEDIAMBIENTE',\n",
    "    '549300EEJH4FEPDBBR25':'TELEFONICA',\n",
    "    '95980020140005684765':'VISCOFAN',\n",
    "    }"
   ]
  },
  {
   "cell_type": "code",
   "execution_count": 7,
   "id": "b62b18c7-2da9-4f7b-be61-0bbe94916418",
   "metadata": {},
   "outputs": [
    {
     "name": "stdout",
     "output_type": "stream",
     "text": [
      "No se ha encontrado la pagina Notificaciones-Participaciones de ACCIONA  ////ERROR DES:local variable 'params_2' referenced before assignment////\n",
      "No se ha encontrado la pagina Notificaciones-Participaciones de ACS  ////ERROR DES:local variable 'params_2' referenced before assignment////\n",
      "No se ha encontrado la pagina Notificaciones-Participaciones de ARCELORMITTAL  ////ERROR DES:local variable 'params_2' referenced before assignment////\n",
      "{'ACCIONA': None, 'ACERINOX': 29.049, 'ACS': None, 'AENA': 64.253, 'ALMIRALL': 62.757999999999996, 'AMADEUS IT': 29.746999999999996, 'ARCELORMITTAL': None, 'BANCO SANTANDER': 5.426, 'BANCO SABADELL': 13.509, 'BANKINTER': 37.708000000000006, 'BBVA': 9.007, 'CAIXABANK': 95.869, 'CELLNEX TELECOM': 65.269, 'CIE AUTOMOTIVE': 72.02000000000001, 'ENAGAS': 26.115999999999996, 'ENDESA': 70.101, 'FERROVIAL': 51.42499999999999, 'FLUIDRA': 111.45700000000001, 'GRIFOLS': 41.426, 'INTERNATIONAL CONSOLIDATED AIRLINES': 30.196, 'IBERDROLA': 17.061, 'INDITEX': 121.35, 'INDRA SISTEMAS': 56.091, 'INMOBILIARIA COLONIAL': 59.227, 'MAPFRE': 67.723, 'MELIA': 107.38700000000001, 'MERLIN': 32.535, 'NATURGY': 139.338, 'PHARMA MAR': 30.665999999999997, 'RED ELECTRICA': 28.147, 'REPSOL': 16.630999999999997, 'SIEMENS GAMESA': 70.154, 'SOLARIA ENERGIA Y MEDIAMBIENTE': 64.792, 'TELEFONICA': 14.700999999999999, 'VISCOFAN': 38.497}\n"
     ]
    }
   ],
   "source": [
    "suma_p_largas ={}\n",
    "for k, v in dicc_empresas.items():\n",
    "    suma_p_largas[v]=extract_data(k,v)\n",
    "print (suma_p_largas)\n",
    "#para 3 activos no consigo que funcione porque el código LEI no existe (como en el caso de ARCELORMITTAL) o no concuerda con\n",
    "#el nombre de la empresa(el buscador no reconoce la designación)."
   ]
  },
  {
   "cell_type": "code",
   "execution_count": null,
   "id": "7a4a88b8-dd4e-4677-80d0-9be3cfb75f76",
   "metadata": {},
   "outputs": [],
   "source": []
  }
 ],
 "metadata": {
  "kernelspec": {
   "display_name": "base",
   "language": "python",
   "name": "python3"
  },
  "language_info": {
   "codemirror_mode": {
    "name": "ipython",
    "version": 3
   },
   "file_extension": ".py",
   "mimetype": "text/x-python",
   "name": "python",
   "nbconvert_exporter": "python",
   "pygments_lexer": "ipython3",
   "version": "3.8.8 (default, Apr 13 2021, 15:08:03) [MSC v.1916 64 bit (AMD64)]"
  },
  "vscode": {
   "interpreter": {
    "hash": "b139e89582e737792607ceddb6bebb5cd92feebe0d1ea237ccc14b715261edc8"
   }
  }
 },
 "nbformat": 4,
 "nbformat_minor": 5
}
